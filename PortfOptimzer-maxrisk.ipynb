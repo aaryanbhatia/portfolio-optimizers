{
 "cells": [
  {
   "cell_type": "code",
   "execution_count": 2,
   "metadata": {},
   "outputs": [],
   "source": [
    "import yfinance as yf\n",
    "import pandas as pd\n",
    "import numpy as np\n",
    "from scipy.optimize import minimize"
   ]
  },
  {
   "cell_type": "code",
   "execution_count": 11,
   "metadata": {},
   "outputs": [
    {
     "name": "stderr",
     "output_type": "stream",
     "text": [
      "[*********************100%%**********************]  3 of 3 completed"
     ]
    },
    {
     "name": "stdout",
     "output_type": "stream",
     "text": [
      "Ticker           SOXL        SOXX         TSM\n",
      "Date                                         \n",
      "2024-03-01  48.330002  226.613327  133.899994\n",
      "2024-03-04  49.770000  228.839996  138.259995\n",
      "2024-03-05  46.840000  224.353333  134.970001\n",
      "2024-03-06  50.220001  229.866669  141.570007\n",
      "2024-03-07  55.320000  237.750000  149.199997\n",
      "...               ...         ...         ...\n",
      "2024-06-06  52.509998  240.740005  162.070007\n",
      "2024-06-07  51.869999  240.020004  164.389999\n",
      "2024-06-10  53.950001  243.479996  168.160004\n",
      "2024-06-11  54.169998  243.369995  165.710007\n",
      "2024-06-12  58.720001  250.229996  172.979996\n",
      "\n",
      "[72 rows x 3 columns]\n"
     ]
    },
    {
     "name": "stderr",
     "output_type": "stream",
     "text": [
      "\n"
     ]
    }
   ],
   "source": [
    "df = ['SOXX', 'SOXL', 'TSM']\n",
    "df = yf.download(df, start='2024-03-01')['Close']\n",
    "print(df)"
   ]
  },
  {
   "cell_type": "code",
   "execution_count": 12,
   "metadata": {},
   "outputs": [
    {
     "data": {
      "text/html": [
       "<div>\n",
       "<style scoped>\n",
       "    .dataframe tbody tr th:only-of-type {\n",
       "        vertical-align: middle;\n",
       "    }\n",
       "\n",
       "    .dataframe tbody tr th {\n",
       "        vertical-align: top;\n",
       "    }\n",
       "\n",
       "    .dataframe thead th {\n",
       "        text-align: right;\n",
       "    }\n",
       "</style>\n",
       "<table border=\"1\" class=\"dataframe\">\n",
       "  <thead>\n",
       "    <tr style=\"text-align: right;\">\n",
       "      <th>Ticker</th>\n",
       "      <th>SOXL</th>\n",
       "      <th>SOXX</th>\n",
       "      <th>TSM</th>\n",
       "    </tr>\n",
       "    <tr>\n",
       "      <th>Date</th>\n",
       "      <th></th>\n",
       "      <th></th>\n",
       "      <th></th>\n",
       "    </tr>\n",
       "  </thead>\n",
       "  <tbody>\n",
       "    <tr>\n",
       "      <th>2024-03-04</th>\n",
       "      <td>0.029795</td>\n",
       "      <td>0.009826</td>\n",
       "      <td>0.032562</td>\n",
       "    </tr>\n",
       "    <tr>\n",
       "      <th>2024-03-05</th>\n",
       "      <td>-0.058871</td>\n",
       "      <td>-0.019606</td>\n",
       "      <td>-0.023796</td>\n",
       "    </tr>\n",
       "    <tr>\n",
       "      <th>2024-03-06</th>\n",
       "      <td>0.072161</td>\n",
       "      <td>0.024574</td>\n",
       "      <td>0.048900</td>\n",
       "    </tr>\n",
       "    <tr>\n",
       "      <th>2024-03-07</th>\n",
       "      <td>0.101553</td>\n",
       "      <td>0.034295</td>\n",
       "      <td>0.053896</td>\n",
       "    </tr>\n",
       "    <tr>\n",
       "      <th>2024-03-08</th>\n",
       "      <td>-0.115148</td>\n",
       "      <td>-0.040463</td>\n",
       "      <td>-0.018968</td>\n",
       "    </tr>\n",
       "    <tr>\n",
       "      <th>...</th>\n",
       "      <td>...</td>\n",
       "      <td>...</td>\n",
       "      <td>...</td>\n",
       "    </tr>\n",
       "    <tr>\n",
       "      <th>2024-06-06</th>\n",
       "      <td>-0.018871</td>\n",
       "      <td>-0.008198</td>\n",
       "      <td>-0.005217</td>\n",
       "    </tr>\n",
       "    <tr>\n",
       "      <th>2024-06-07</th>\n",
       "      <td>-0.012188</td>\n",
       "      <td>-0.002991</td>\n",
       "      <td>0.014315</td>\n",
       "    </tr>\n",
       "    <tr>\n",
       "      <th>2024-06-10</th>\n",
       "      <td>0.040100</td>\n",
       "      <td>0.014415</td>\n",
       "      <td>0.022933</td>\n",
       "    </tr>\n",
       "    <tr>\n",
       "      <th>2024-06-11</th>\n",
       "      <td>0.004078</td>\n",
       "      <td>-0.000452</td>\n",
       "      <td>-0.014569</td>\n",
       "    </tr>\n",
       "    <tr>\n",
       "      <th>2024-06-12</th>\n",
       "      <td>0.083995</td>\n",
       "      <td>0.028188</td>\n",
       "      <td>0.043872</td>\n",
       "    </tr>\n",
       "  </tbody>\n",
       "</table>\n",
       "<p>71 rows × 3 columns</p>\n",
       "</div>"
      ],
      "text/plain": [
       "Ticker          SOXL      SOXX       TSM\n",
       "Date                                    \n",
       "2024-03-04  0.029795  0.009826  0.032562\n",
       "2024-03-05 -0.058871 -0.019606 -0.023796\n",
       "2024-03-06  0.072161  0.024574  0.048900\n",
       "2024-03-07  0.101553  0.034295  0.053896\n",
       "2024-03-08 -0.115148 -0.040463 -0.018968\n",
       "...              ...       ...       ...\n",
       "2024-06-06 -0.018871 -0.008198 -0.005217\n",
       "2024-06-07 -0.012188 -0.002991  0.014315\n",
       "2024-06-10  0.040100  0.014415  0.022933\n",
       "2024-06-11  0.004078 -0.000452 -0.014569\n",
       "2024-06-12  0.083995  0.028188  0.043872\n",
       "\n",
       "[71 rows x 3 columns]"
      ]
     },
     "execution_count": 12,
     "metadata": {},
     "output_type": "execute_result"
    }
   ],
   "source": [
    "returns_df = df.pct_change().dropna()\n",
    "returns_df"
   ]
  },
  {
   "cell_type": "code",
   "execution_count": 13,
   "metadata": {},
   "outputs": [
    {
     "name": "stdout",
     "output_type": "stream",
     "text": [
      "Annualized Portfolio Return: 80.24%\n"
     ]
    }
   ],
   "source": [
    "## Create a vector of weights which sum up to 1.\n",
    "num_stocks = len(returns_df.columns) \n",
    "init_weights = [1/num_stocks] * num_stocks #vector of weights\n",
    "\n",
    "## Calculate the annualised Expected Return of the portfolio\n",
    "def getPortReturn(weights):\n",
    "    exp_ret_portfolio = np.dot(np.transpose(weights), returns_df.mean()) * 250 #annualise crude method\n",
    "    return exp_ret_portfolio\n",
    "\n",
    "# Test the function with initial weights\n",
    "annualized_return = getPortReturn(init_weights)\n",
    "print(\"Annualized Portfolio Return: {:.2f}%\".format(annualized_return * 100))\n"
   ]
  },
  {
   "cell_type": "code",
   "execution_count": 14,
   "metadata": {},
   "outputs": [
    {
     "name": "stdout",
     "output_type": "stream",
     "text": [
      "Annualized Portfolio Risk: 48.48%\n"
     ]
    }
   ],
   "source": [
    "def getPortRisk(weights):\n",
    "    '''Returns the annualised standard deviation of a k asset portfolio.'''\n",
    "\n",
    "    # You don't need to recalculate the daily returns here if returns_df already exists.\n",
    "    # Just use returns_df directly.\n",
    "    \n",
    "    # Calculate the covariance matrix of the asset returns.\n",
    "    vcv = returns_df.cov() \n",
    "    \n",
    "    # Calculate the variance of the portfolio's returns.\n",
    "    # This is a dot product of weights with the covariance matrix, and then with weights again.\n",
    "    var_p = np.dot(weights, np.dot(vcv, weights)) \n",
    "    \n",
    "    # The standard deviation is the square root of variance.\n",
    "    sd_p = np.sqrt(var_p)\n",
    "    \n",
    "    # To annualize, multiply by the square root of the number of trading days in a year.\n",
    "    sd_p_annual = sd_p * np.sqrt(250)\n",
    "    \n",
    "    return sd_p_annual\n",
    "\n",
    "# Example usage:\n",
    "# Assuming you've already calculated and set 'init_weights' somewhere in your code.\n",
    "portfolio_risk = getPortRisk(init_weights)\n",
    "print(\"Annualized Portfolio Risk: {:.2f}%\".format(portfolio_risk * 100))\n"
   ]
  },
  {
   "cell_type": "code",
   "execution_count": 15,
   "metadata": {},
   "outputs": [
    {
     "data": {
      "text/plain": [
       " message: Optimization terminated successfully\n",
       " success: True\n",
       "  status: 0\n",
       "     fun: 0.290957476692221\n",
       "       x: [ 0.000e+00  1.000e+00  0.000e+00]\n",
       "     nit: 5\n",
       "     jac: [ 8.457e-01  2.910e-01  2.964e-01]\n",
       "    nfev: 20\n",
       "    njev: 5"
      ]
     },
     "execution_count": 15,
     "metadata": {},
     "output_type": "execute_result"
    }
   ],
   "source": [
    "# Number of stocks should be based on the returns data, not the prices\n",
    "num_stocks = len(returns_df.columns)  # Corrected to use returns_df\n",
    "init_weights = [1 / num_stocks] * num_stocks  # Initialize weights\n",
    "\n",
    "# Constraints for the optimization\n",
    "bounds = tuple((0, 1) for _ in range(num_stocks))  # Bounds for each weight\n",
    "\n",
    "# The sum of the weights must equal 1\n",
    "cons = ({'type': 'eq', 'fun': lambda x: np.sum(x) - 1})\n",
    "\n",
    "# Perform the optimization to minimize portfolio risk\n",
    "results = minimize(fun=getPortRisk, x0=init_weights, bounds=bounds, constraints=cons)\n",
    "results  # Contains the output of the optimization process"
   ]
  },
  {
   "cell_type": "code",
   "execution_count": 16,
   "metadata": {},
   "outputs": [
    {
     "data": {
      "text/plain": [
       "0.48482527342851145"
      ]
     },
     "execution_count": 16,
     "metadata": {},
     "output_type": "execute_result"
    }
   ],
   "source": [
    "# Check total risk of the equal weighted portfolio\n",
    "getPortRisk(init_weights)"
   ]
  },
  {
   "cell_type": "code",
   "execution_count": 17,
   "metadata": {},
   "outputs": [],
   "source": [
    "# Explore optimised weights\n",
    "optimised_weights = pd.DataFrame(results['x'])\n",
    "optimised_weights.index = returns_df.columns  # This should reference returns_df to match the stocks\n",
    "optimised_weights.rename(columns={0: 'weights'}, inplace=True)  # Rename the column for clarity\n",
    "optimised_weights['weights_rounded'] = optimised_weights['weights'].apply(lambda x: round(x, 3))"
   ]
  },
  {
   "cell_type": "code",
   "execution_count": 18,
   "metadata": {},
   "outputs": [
    {
     "name": "stderr",
     "output_type": "stream",
     "text": [
      "/Users/aaryanbhatia/Library/Python/3.11/lib/python/site-packages/numpy/core/fromnumeric.py:3643: FutureWarning: The behavior of DataFrame.std with axis=None is deprecated, in a future version this will reduce over both axes and return a scalar. To retain the old behavior, pass axis=0 (or do not pass axis)\n",
      "  return std(axis=axis, dtype=dtype, out=out, ddof=ddof, **kwargs)\n"
     ]
    },
    {
     "data": {
      "text/html": [
       "<div>\n",
       "<style scoped>\n",
       "    .dataframe tbody tr th:only-of-type {\n",
       "        vertical-align: middle;\n",
       "    }\n",
       "\n",
       "    .dataframe tbody tr th {\n",
       "        vertical-align: top;\n",
       "    }\n",
       "\n",
       "    .dataframe thead th {\n",
       "        text-align: right;\n",
       "    }\n",
       "</style>\n",
       "<table border=\"1\" class=\"dataframe\">\n",
       "  <thead>\n",
       "    <tr style=\"text-align: right;\">\n",
       "      <th></th>\n",
       "      <th>weights</th>\n",
       "      <th>weights_rounded</th>\n",
       "      <th>individual_risks</th>\n",
       "    </tr>\n",
       "    <tr>\n",
       "      <th>Ticker</th>\n",
       "      <th></th>\n",
       "      <th></th>\n",
       "      <th></th>\n",
       "    </tr>\n",
       "  </thead>\n",
       "  <tbody>\n",
       "    <tr>\n",
       "      <th>SOXL</th>\n",
       "      <td>0.0</td>\n",
       "      <td>0.0</td>\n",
       "      <td>0.841131</td>\n",
       "    </tr>\n",
       "    <tr>\n",
       "      <th>SOXX</th>\n",
       "      <td>1.0</td>\n",
       "      <td>1.0</td>\n",
       "      <td>0.288901</td>\n",
       "    </tr>\n",
       "    <tr>\n",
       "      <th>TSM</th>\n",
       "      <td>0.0</td>\n",
       "      <td>0.0</td>\n",
       "      <td>0.375258</td>\n",
       "    </tr>\n",
       "  </tbody>\n",
       "</table>\n",
       "</div>"
      ],
      "text/plain": [
       "        weights  weights_rounded  individual_risks\n",
       "Ticker                                            \n",
       "SOXL        0.0              0.0          0.841131\n",
       "SOXX        1.0              1.0          0.288901\n",
       "TSM         0.0              0.0          0.375258"
      ]
     },
     "execution_count": 18,
     "metadata": {},
     "output_type": "execute_result"
    }
   ],
   "source": [
    "# Calculate individual annualized risks for each asset\n",
    "individual_risks = np.std(returns_df) * np.sqrt(250)\n",
    "\n",
    "# Add individual risks to the optimised_weights DataFrame\n",
    "optimised_weights['individual_risks'] = individual_risks\n",
    "\n",
    "# Display the optimised_weights DataFrame with the new 'individual_risks' column\n",
    "optimised_weights"
   ]
  },
  {
   "cell_type": "code",
   "execution_count": 19,
   "metadata": {},
   "outputs": [
    {
     "data": {
      "text/html": [
       "<div>\n",
       "<style scoped>\n",
       "    .dataframe tbody tr th:only-of-type {\n",
       "        vertical-align: middle;\n",
       "    }\n",
       "\n",
       "    .dataframe tbody tr th {\n",
       "        vertical-align: top;\n",
       "    }\n",
       "\n",
       "    .dataframe thead th {\n",
       "        text-align: right;\n",
       "    }\n",
       "</style>\n",
       "<table border=\"1\" class=\"dataframe\">\n",
       "  <thead>\n",
       "    <tr style=\"text-align: right;\">\n",
       "      <th>Ticker</th>\n",
       "      <th>SOXL</th>\n",
       "      <th>SOXX</th>\n",
       "      <th>TSM</th>\n",
       "    </tr>\n",
       "    <tr>\n",
       "      <th>Ticker</th>\n",
       "      <th></th>\n",
       "      <th></th>\n",
       "      <th></th>\n",
       "    </tr>\n",
       "  </thead>\n",
       "  <tbody>\n",
       "    <tr>\n",
       "      <th>SOXL</th>\n",
       "      <td>1.00</td>\n",
       "      <td>1.00</td>\n",
       "      <td>0.79</td>\n",
       "    </tr>\n",
       "    <tr>\n",
       "      <th>SOXX</th>\n",
       "      <td>1.00</td>\n",
       "      <td>1.00</td>\n",
       "      <td>0.78</td>\n",
       "    </tr>\n",
       "    <tr>\n",
       "      <th>TSM</th>\n",
       "      <td>0.79</td>\n",
       "      <td>0.78</td>\n",
       "      <td>1.00</td>\n",
       "    </tr>\n",
       "  </tbody>\n",
       "</table>\n",
       "</div>"
      ],
      "text/plain": [
       "Ticker  SOXL  SOXX   TSM\n",
       "Ticker                  \n",
       "SOXL    1.00  1.00  0.79\n",
       "SOXX    1.00  1.00  0.78\n",
       "TSM     0.79  0.78  1.00"
      ]
     },
     "execution_count": 19,
     "metadata": {},
     "output_type": "execute_result"
    }
   ],
   "source": [
    "def get_correlation_matrix():\n",
    "     return np.round(returns_df.corr(), 2)\n",
    " \n",
    " \n",
    "get_correlation_matrix()"
   ]
  },
  {
   "cell_type": "code",
   "execution_count": 28,
   "metadata": {},
   "outputs": [
    {
     "name": "stdout",
     "output_type": "stream",
     "text": [
      "Optimized weights: [8.66996843e-14 7.15922160e-01 2.84077840e-01]\n"
     ]
    }
   ],
   "source": [
    "# Define the maximum risk level you are willing to accept\n",
    "bounds = tuple((0, 1) for i in range (num_stocks)) # for loop, create tuple of 0, 1 for every stock\n",
    "max_risk = 0.3  # for example, 15%\n",
    "\n",
    "def objective(weights):\n",
    "    # Objective function to maximize the return (minimize the negative return)\n",
    "    return -getPortReturn(weights)\n",
    "\n",
    "def risk_constraint(weights):\n",
    "    # Constraint function to ensure the risk does not exceed max_risk\n",
    "    return max_risk - getPortRisk(weights)\n",
    "\n",
    "# Define constraints for the optimization\n",
    "cons = [{'type': 'eq', 'fun': lambda x: np.sum(x) - 1},  # Weights must sum up to 1\n",
    "        {'type': 'ineq', 'fun': risk_constraint}]  # Risk must not exceed max_risk\n",
    "\n",
    "# Run the optimization\n",
    "results = minimize(fun=objective, x0=init_weights, bounds=bounds, constraints=cons)\n",
    "\n",
    "# Check results\n",
    "if results.success:\n",
    "    optimized_weights = results.x\n",
    "    print(\"Optimized weights:\", optimized_weights)\n",
    "else:\n",
    "    print(\"Optimization failed:\", results.message)"
   ]
  },
  {
   "cell_type": "code",
   "execution_count": 29,
   "metadata": {},
   "outputs": [
    {
     "name": "stderr",
     "output_type": "stream",
     "text": [
      "/Users/aaryanbhatia/Library/Python/3.11/lib/python/site-packages/numpy/core/fromnumeric.py:3643: FutureWarning: The behavior of DataFrame.std with axis=None is deprecated, in a future version this will reduce over both axes and return a scalar. To retain the old behavior, pass axis=0 (or do not pass axis)\n",
      "  return std(axis=axis, dtype=dtype, out=out, ddof=ddof, **kwargs)\n"
     ]
    },
    {
     "data": {
      "text/html": [
       "<div>\n",
       "<style scoped>\n",
       "    .dataframe tbody tr th:only-of-type {\n",
       "        vertical-align: middle;\n",
       "    }\n",
       "\n",
       "    .dataframe tbody tr th {\n",
       "        vertical-align: top;\n",
       "    }\n",
       "\n",
       "    .dataframe thead th {\n",
       "        text-align: right;\n",
       "    }\n",
       "</style>\n",
       "<table border=\"1\" class=\"dataframe\">\n",
       "  <thead>\n",
       "    <tr style=\"text-align: right;\">\n",
       "      <th></th>\n",
       "      <th>Optimized Weights</th>\n",
       "      <th>Individual Risks</th>\n",
       "      <th>Weights Rounded</th>\n",
       "    </tr>\n",
       "  </thead>\n",
       "  <tbody>\n",
       "    <tr>\n",
       "      <th>SOXL</th>\n",
       "      <td>0.0</td>\n",
       "      <td>0.841131</td>\n",
       "      <td>0.000000</td>\n",
       "    </tr>\n",
       "    <tr>\n",
       "      <th>SOXX</th>\n",
       "      <td>0.715922</td>\n",
       "      <td>0.288901</td>\n",
       "      <td>0.716000</td>\n",
       "    </tr>\n",
       "    <tr>\n",
       "      <th>TSM</th>\n",
       "      <td>0.284078</td>\n",
       "      <td>0.375258</td>\n",
       "      <td>0.284000</td>\n",
       "    </tr>\n",
       "    <tr>\n",
       "      <th>0</th>\n",
       "      <td>Total Portfolio</td>\n",
       "      <td>0.300000</td>\n",
       "      <td>0.556477</td>\n",
       "    </tr>\n",
       "  </tbody>\n",
       "</table>\n",
       "</div>"
      ],
      "text/plain": [
       "     Optimized Weights  Individual Risks  Weights Rounded\n",
       "SOXL               0.0          0.841131         0.000000\n",
       "SOXX          0.715922          0.288901         0.716000\n",
       "TSM           0.284078          0.375258         0.284000\n",
       "0      Total Portfolio          0.300000         0.556477"
      ]
     },
     "execution_count": 29,
     "metadata": {},
     "output_type": "execute_result"
    }
   ],
   "source": [
    "optimized_weights = results.x\n",
    "\n",
    "# Calculate the portfolio risk with the optimized weights\n",
    "optimized_risk = getPortRisk(optimized_weights)\n",
    "\n",
    "# Calculate the annualized return with the optimized weights\n",
    "optimized_return = getPortReturn(optimized_weights)\n",
    "\n",
    "# Calculate individual risks (standard deviations)\n",
    "individual_risks = np.std(returns_df) * np.sqrt(250)\n",
    "\n",
    "# Create a DataFrame to display the results\n",
    "results_df = pd.DataFrame({\n",
    "    'Optimized Weights': optimized_weights,\n",
    "    'Individual Risks': individual_risks\n",
    "}, index=returns_df.columns)\n",
    "\n",
    "# Add a column for rounded weights\n",
    "results_df['Weights Rounded'] = results_df['Optimized Weights'].apply(lambda x: round(x, 3))\n",
    "\n",
    "# Add the total optimized return and risk at the end of the DataFrame\n",
    "total_metrics = pd.DataFrame({\n",
    "    'Optimized Weights': ['Total Portfolio'],\n",
    "    'Individual Risks': [optimized_risk],\n",
    "    'Weights Rounded': [optimized_return]\n",
    "})\n",
    "\n",
    "# Combine the individual asset data with the total metrics\n",
    "results_df = pd.concat([results_df, total_metrics])\n",
    "\n",
    "# Display the results DataFrame\n",
    "results_df"
   ]
  },
  {
   "cell_type": "code",
   "execution_count": 30,
   "metadata": {},
   "outputs": [
    {
     "name": "stdout",
     "output_type": "stream",
     "text": [
      "Optimized Portfolio Return: 55.65%\n",
      "Optimized Portfolio Risk: 30.00%\n"
     ]
    }
   ],
   "source": [
    "# Assuming 'results' contains the successful optimization output\n",
    "optimized_weights = results['x']\n",
    "\n",
    "# Calculate the portfolio return using the optimized weights\n",
    "portfolio_return = getPortReturn(optimized_weights)\n",
    "print(\"Optimized Portfolio Return: {:.2f}%\".format(portfolio_return * 100))\n",
    "\n",
    "# Calculate the portfolio risk using the optimized weights\n",
    "portfolio_risk = getPortRisk(optimized_weights)\n",
    "print(\"Optimized Portfolio Risk: {:.2f}%\".format(portfolio_risk * 100))"
   ]
  },
  {
   "cell_type": "code",
   "execution_count": null,
   "metadata": {},
   "outputs": [],
   "source": []
  },
  {
   "cell_type": "code",
   "execution_count": null,
   "metadata": {},
   "outputs": [],
   "source": []
  },
  {
   "cell_type": "code",
   "execution_count": null,
   "metadata": {},
   "outputs": [],
   "source": []
  }
 ],
 "metadata": {
  "kernelspec": {
   "display_name": "Python 3",
   "language": "python",
   "name": "python3"
  },
  "language_info": {
   "codemirror_mode": {
    "name": "ipython",
    "version": 3
   },
   "file_extension": ".py",
   "mimetype": "text/x-python",
   "name": "python",
   "nbconvert_exporter": "python",
   "pygments_lexer": "ipython3",
   "version": "3.11.0"
  }
 },
 "nbformat": 4,
 "nbformat_minor": 2
}
