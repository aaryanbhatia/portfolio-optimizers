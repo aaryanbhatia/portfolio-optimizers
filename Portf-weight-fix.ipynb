{
 "cells": [
  {
   "cell_type": "code",
   "execution_count": 30,
   "metadata": {},
   "outputs": [
    {
     "data": {
      "text/plain": [
       "'This program attempts to optimize a users portfolio using the Efficient Frontier'"
      ]
     },
     "execution_count": 30,
     "metadata": {},
     "output_type": "execute_result"
    }
   ],
   "source": [
    "'''This program attempts to optimize a users portfolio using the Efficient Frontier'''"
   ]
  },
  {
   "cell_type": "code",
   "execution_count": 275,
   "metadata": {},
   "outputs": [],
   "source": [
    "#Import the python libraries\n",
    "from pandas_datareader import data as web\n",
    "import pandas as pd\n",
    "import numpy as np\n",
    "from datetime import datetime\n",
    "import matplotlib.pyplot as plt\n",
    "plt.style.use('fivethirtyeight')\n",
    "import yfinance as yf"
   ]
  },
  {
   "cell_type": "code",
   "execution_count": 294,
   "metadata": {},
   "outputs": [],
   "source": [
    "#Get the stock tickers in the portfolio \n",
    "assets = ['INDL','TMF','SMIN']"
   ]
  },
  {
   "cell_type": "code",
   "execution_count": 304,
   "metadata": {},
   "outputs": [],
   "source": [
    "#Assign weights to the stocks. \n",
    "weights = np.array([0.33,0.33,0.34])"
   ]
  },
  {
   "cell_type": "code",
   "execution_count": 305,
   "metadata": {},
   "outputs": [],
   "source": [
    "# Get the stock/ portfolio starting date\n",
    "stockStartDate = '2019-05-01'\n",
    "     "
   ]
  },
  {
   "cell_type": "code",
   "execution_count": 306,
   "metadata": {},
   "outputs": [
    {
     "data": {
      "text/plain": [
       "'2024-06-17'"
      ]
     },
     "execution_count": 306,
     "metadata": {},
     "output_type": "execute_result"
    }
   ],
   "source": [
    "# Get the stocks' ending date (today)\n",
    "today = datetime.today().strftime('%Y-%m-%d')\n",
    "today"
   ]
  },
  {
   "cell_type": "code",
   "execution_count": 307,
   "metadata": {},
   "outputs": [
    {
     "name": "stderr",
     "output_type": "stream",
     "text": [
      "[*********************100%%**********************]  3 of 3 completed\n",
      "[*********************100%%**********************]  3 of 3 completed\n",
      "[*********************100%%**********************]  3 of 3 completed\n"
     ]
    }
   ],
   "source": [
    "df = pd.DataFrame()\n",
    "for stock in assets:\n",
    "    df = yf.download(assets, start = stockStartDate,end='2024-06-14')['Adj Close']\n",
    "     "
   ]
  },
  {
   "cell_type": "code",
   "execution_count": 308,
   "metadata": {},
   "outputs": [
    {
     "data": {
      "text/html": [
       "<div>\n",
       "<style scoped>\n",
       "    .dataframe tbody tr th:only-of-type {\n",
       "        vertical-align: middle;\n",
       "    }\n",
       "\n",
       "    .dataframe tbody tr th {\n",
       "        vertical-align: top;\n",
       "    }\n",
       "\n",
       "    .dataframe thead th {\n",
       "        text-align: right;\n",
       "    }\n",
       "</style>\n",
       "<table border=\"1\" class=\"dataframe\">\n",
       "  <thead>\n",
       "    <tr style=\"text-align: right;\">\n",
       "      <th>Ticker</th>\n",
       "      <th>INDL</th>\n",
       "      <th>SMIN</th>\n",
       "      <th>TMF</th>\n",
       "    </tr>\n",
       "    <tr>\n",
       "      <th>Date</th>\n",
       "      <th></th>\n",
       "      <th></th>\n",
       "      <th></th>\n",
       "    </tr>\n",
       "  </thead>\n",
       "  <tbody>\n",
       "    <tr>\n",
       "      <th>2019-05-01</th>\n",
       "      <td>72.620766</td>\n",
       "      <td>37.300091</td>\n",
       "      <td>184.684769</td>\n",
       "    </tr>\n",
       "    <tr>\n",
       "      <th>2019-05-02</th>\n",
       "      <td>71.267532</td>\n",
       "      <td>36.957535</td>\n",
       "      <td>182.156082</td>\n",
       "    </tr>\n",
       "    <tr>\n",
       "      <th>2019-05-03</th>\n",
       "      <td>73.207497</td>\n",
       "      <td>37.442829</td>\n",
       "      <td>183.601089</td>\n",
       "    </tr>\n",
       "    <tr>\n",
       "      <th>2019-05-06</th>\n",
       "      <td>70.434776</td>\n",
       "      <td>37.090759</td>\n",
       "      <td>185.136353</td>\n",
       "    </tr>\n",
       "    <tr>\n",
       "      <th>2019-05-07</th>\n",
       "      <td>65.050201</td>\n",
       "      <td>35.844246</td>\n",
       "      <td>189.561569</td>\n",
       "    </tr>\n",
       "    <tr>\n",
       "      <th>...</th>\n",
       "      <td>...</td>\n",
       "      <td>...</td>\n",
       "      <td>...</td>\n",
       "    </tr>\n",
       "    <tr>\n",
       "      <th>2024-06-07</th>\n",
       "      <td>66.300003</td>\n",
       "      <td>76.669998</td>\n",
       "      <td>48.980000</td>\n",
       "    </tr>\n",
       "    <tr>\n",
       "      <th>2024-06-10</th>\n",
       "      <td>66.519997</td>\n",
       "      <td>77.500000</td>\n",
       "      <td>47.970001</td>\n",
       "    </tr>\n",
       "    <tr>\n",
       "      <th>2024-06-11</th>\n",
       "      <td>66.889999</td>\n",
       "      <td>77.910004</td>\n",
       "      <td>49.410000</td>\n",
       "    </tr>\n",
       "    <tr>\n",
       "      <th>2024-06-12</th>\n",
       "      <td>67.769997</td>\n",
       "      <td>79.379997</td>\n",
       "      <td>50.540001</td>\n",
       "    </tr>\n",
       "    <tr>\n",
       "      <th>2024-06-13</th>\n",
       "      <td>67.610001</td>\n",
       "      <td>79.330002</td>\n",
       "      <td>52.680000</td>\n",
       "    </tr>\n",
       "  </tbody>\n",
       "</table>\n",
       "<p>1290 rows × 3 columns</p>\n",
       "</div>"
      ],
      "text/plain": [
       "Ticker           INDL       SMIN         TMF\n",
       "Date                                        \n",
       "2019-05-01  72.620766  37.300091  184.684769\n",
       "2019-05-02  71.267532  36.957535  182.156082\n",
       "2019-05-03  73.207497  37.442829  183.601089\n",
       "2019-05-06  70.434776  37.090759  185.136353\n",
       "2019-05-07  65.050201  35.844246  189.561569\n",
       "...               ...        ...         ...\n",
       "2024-06-07  66.300003  76.669998   48.980000\n",
       "2024-06-10  66.519997  77.500000   47.970001\n",
       "2024-06-11  66.889999  77.910004   49.410000\n",
       "2024-06-12  67.769997  79.379997   50.540001\n",
       "2024-06-13  67.610001  79.330002   52.680000\n",
       "\n",
       "[1290 rows x 3 columns]"
      ]
     },
     "execution_count": 308,
     "metadata": {},
     "output_type": "execute_result"
    }
   ],
   "source": [
    "df"
   ]
  },
  {
   "cell_type": "code",
   "execution_count": 309,
   "metadata": {},
   "outputs": [
    {
     "data": {
      "image/png": "[encoded data removed]",
      "text/plain": [
       "<Figure size 640x480 with 1 Axes>"
      ]
     },
     "metadata": {},
     "output_type": "display_data"
    }
   ],
   "source": [
    "# Visually show the stock/ portfolio\n",
    "title = 'Portfolio Adj. Close Price History'\n",
    "\n",
    "# Get the stocks\n",
    "my_stocks = df\n",
    "\n",
    "# Create and plot the graph\n",
    "for c in my_stocks.columns.values:\n",
    "  plt.plot(my_stocks[c],label=c)\n",
    "\n",
    "plt.title(title)\n",
    "plt.xlabel('Date',fontsize=18)\n",
    "plt.ylabel('Adj. Price USD ($)',fontsize=18)\n",
    "plt.legend(my_stocks.columns.values,loc='upper left')\n",
    "plt.show()"
   ]
  },
  {
   "cell_type": "code",
   "execution_count": 310,
   "metadata": {},
   "outputs": [
    {
     "data": {
      "text/html": [
       "<div>\n",
       "<style scoped>\n",
       "    .dataframe tbody tr th:only-of-type {\n",
       "        vertical-align: middle;\n",
       "    }\n",
       "\n",
       "    .dataframe tbody tr th {\n",
       "        vertical-align: top;\n",
       "    }\n",
       "\n",
       "    .dataframe thead th {\n",
       "        text-align: right;\n",
       "    }\n",
       "</style>\n",
       "<table border=\"1\" class=\"dataframe\">\n",
       "  <thead>\n",
       "    <tr style=\"text-align: right;\">\n",
       "      <th>Ticker</th>\n",
       "      <th>INDL</th>\n",
       "      <th>SMIN</th>\n",
       "      <th>TMF</th>\n",
       "    </tr>\n",
       "    <tr>\n",
       "      <th>Date</th>\n",
       "      <th></th>\n",
       "      <th></th>\n",
       "      <th></th>\n",
       "    </tr>\n",
       "  </thead>\n",
       "  <tbody>\n",
       "    <tr>\n",
       "      <th>2019-05-01</th>\n",
       "      <td>NaN</td>\n",
       "      <td>NaN</td>\n",
       "      <td>NaN</td>\n",
       "    </tr>\n",
       "    <tr>\n",
       "      <th>2019-05-02</th>\n",
       "      <td>-0.018634</td>\n",
       "      <td>-0.009184</td>\n",
       "      <td>-0.013692</td>\n",
       "    </tr>\n",
       "    <tr>\n",
       "      <th>2019-05-03</th>\n",
       "      <td>0.027221</td>\n",
       "      <td>0.013131</td>\n",
       "      <td>0.007933</td>\n",
       "    </tr>\n",
       "    <tr>\n",
       "      <th>2019-05-06</th>\n",
       "      <td>-0.037875</td>\n",
       "      <td>-0.009403</td>\n",
       "      <td>0.008362</td>\n",
       "    </tr>\n",
       "    <tr>\n",
       "      <th>2019-05-07</th>\n",
       "      <td>-0.076448</td>\n",
       "      <td>-0.033607</td>\n",
       "      <td>0.023902</td>\n",
       "    </tr>\n",
       "    <tr>\n",
       "      <th>...</th>\n",
       "      <td>...</td>\n",
       "      <td>...</td>\n",
       "      <td>...</td>\n",
       "    </tr>\n",
       "    <tr>\n",
       "      <th>2024-06-07</th>\n",
       "      <td>0.022044</td>\n",
       "      <td>0.014825</td>\n",
       "      <td>-0.056262</td>\n",
       "    </tr>\n",
       "    <tr>\n",
       "      <th>2024-06-10</th>\n",
       "      <td>0.003318</td>\n",
       "      <td>0.010826</td>\n",
       "      <td>-0.020621</td>\n",
       "    </tr>\n",
       "    <tr>\n",
       "      <th>2024-06-11</th>\n",
       "      <td>0.005562</td>\n",
       "      <td>0.005290</td>\n",
       "      <td>0.030019</td>\n",
       "    </tr>\n",
       "    <tr>\n",
       "      <th>2024-06-12</th>\n",
       "      <td>0.013156</td>\n",
       "      <td>0.018868</td>\n",
       "      <td>0.022870</td>\n",
       "    </tr>\n",
       "    <tr>\n",
       "      <th>2024-06-13</th>\n",
       "      <td>-0.002361</td>\n",
       "      <td>-0.000630</td>\n",
       "      <td>0.042343</td>\n",
       "    </tr>\n",
       "  </tbody>\n",
       "</table>\n",
       "<p>1290 rows × 3 columns</p>\n",
       "</div>"
      ],
      "text/plain": [
       "Ticker          INDL      SMIN       TMF\n",
       "Date                                    \n",
       "2019-05-01       NaN       NaN       NaN\n",
       "2019-05-02 -0.018634 -0.009184 -0.013692\n",
       "2019-05-03  0.027221  0.013131  0.007933\n",
       "2019-05-06 -0.037875 -0.009403  0.008362\n",
       "2019-05-07 -0.076448 -0.033607  0.023902\n",
       "...              ...       ...       ...\n",
       "2024-06-07  0.022044  0.014825 -0.056262\n",
       "2024-06-10  0.003318  0.010826 -0.020621\n",
       "2024-06-11  0.005562  0.005290  0.030019\n",
       "2024-06-12  0.013156  0.018868  0.022870\n",
       "2024-06-13 -0.002361 -0.000630  0.042343\n",
       "\n",
       "[1290 rows x 3 columns]"
      ]
     },
     "execution_count": 310,
     "metadata": {},
     "output_type": "execute_result"
    }
   ],
   "source": [
    "# show the daily simple return\n",
    "returns = df.pct_change()\n",
    "returns"
   ]
  },
  {
   "cell_type": "code",
   "execution_count": 311,
   "metadata": {},
   "outputs": [
    {
     "data": {
      "text/html": [
       "<div>\n",
       "<style scoped>\n",
       "    .dataframe tbody tr th:only-of-type {\n",
       "        vertical-align: middle;\n",
       "    }\n",
       "\n",
       "    .dataframe tbody tr th {\n",
       "        vertical-align: top;\n",
       "    }\n",
       "\n",
       "    .dataframe thead th {\n",
       "        text-align: right;\n",
       "    }\n",
       "</style>\n",
       "<table border=\"1\" class=\"dataframe\">\n",
       "  <thead>\n",
       "    <tr style=\"text-align: right;\">\n",
       "      <th>Ticker</th>\n",
       "      <th>INDL</th>\n",
       "      <th>SMIN</th>\n",
       "      <th>TMF</th>\n",
       "    </tr>\n",
       "    <tr>\n",
       "      <th>Ticker</th>\n",
       "      <th></th>\n",
       "      <th></th>\n",
       "      <th></th>\n",
       "    </tr>\n",
       "  </thead>\n",
       "  <tbody>\n",
       "    <tr>\n",
       "      <th>INDL</th>\n",
       "      <td>0.355189</td>\n",
       "      <td>0.131902</td>\n",
       "      <td>-0.042240</td>\n",
       "    </tr>\n",
       "    <tr>\n",
       "      <th>SMIN</th>\n",
       "      <td>0.131902</td>\n",
       "      <td>0.062449</td>\n",
       "      <td>-0.016958</td>\n",
       "    </tr>\n",
       "    <tr>\n",
       "      <th>TMF</th>\n",
       "      <td>-0.042240</td>\n",
       "      <td>-0.016958</td>\n",
       "      <td>0.273531</td>\n",
       "    </tr>\n",
       "  </tbody>\n",
       "</table>\n",
       "</div>"
      ],
      "text/plain": [
       "Ticker      INDL      SMIN       TMF\n",
       "Ticker                              \n",
       "INDL    0.355189  0.131902 -0.042240\n",
       "SMIN    0.131902  0.062449 -0.016958\n",
       "TMF    -0.042240 -0.016958  0.273531"
      ]
     },
     "execution_count": 311,
     "metadata": {},
     "output_type": "execute_result"
    }
   ],
   "source": [
    "# Create and show the annualized covariance matrix\n",
    "cov_matrix_annual = returns.cov()*252\n",
    "cov_matrix_annual"
   ]
  },
  {
   "cell_type": "code",
   "execution_count": 312,
   "metadata": {},
   "outputs": [
    {
     "data": {
      "text/plain": [
       "0.09254519694560573"
      ]
     },
     "execution_count": 312,
     "metadata": {},
     "output_type": "execute_result"
    }
   ],
   "source": [
    "# Calculate the portfolio variance\n",
    "port_variance = np.dot(weights.T,np.dot(cov_matrix_annual,weights))\n",
    "port_variance"
   ]
  },
  {
   "cell_type": "code",
   "execution_count": 313,
   "metadata": {},
   "outputs": [
    {
     "data": {
      "text/plain": [
       "0.3042124207615556"
      ]
     },
     "execution_count": 313,
     "metadata": {},
     "output_type": "execute_result"
    }
   ],
   "source": [
    "# Calculate the portfolio volatility aka standard deviation\n",
    "port_volatility = np.sqrt(port_variance)\n",
    "port_volatility"
   ]
  },
  {
   "cell_type": "code",
   "execution_count": 314,
   "metadata": {},
   "outputs": [
    {
     "data": {
      "text/plain": [
       "0.07939196853571641"
      ]
     },
     "execution_count": 314,
     "metadata": {},
     "output_type": "execute_result"
    }
   ],
   "source": [
    "# Calculate the annual portfolio return\n",
    "portfolio_simple_annual_return = np.sum(returns.mean()*weights)*252\n",
    "portfolio_simple_annual_return\n",
    "     "
   ]
  },
  {
   "cell_type": "code",
   "execution_count": 315,
   "metadata": {},
   "outputs": [
    {
     "name": "stdout",
     "output_type": "stream",
     "text": [
      "Expected annual return: 8.0%\n",
      "Annual volatility/ risk: 30.0%\n",
      "Annual variance: 9.0%\n"
     ]
    }
   ],
   "source": [
    "\n",
    "# Sow the expected annual return, volatility (risk), and variance\n",
    "percent_var = str(round(port_variance,2)*100)+'%'\n",
    "percent_vola = str(round(port_volatility,2)*100)+'%'\n",
    "percent_ret = str(round(portfolio_simple_annual_return,2)*100)+'%'\n",
    "\n",
    "print('Expected annual return: '+percent_ret)\n",
    "print('Annual volatility/ risk: '+percent_vola)\n",
    "print('Annual variance: '+percent_var)"
   ]
  },
  {
   "cell_type": "code",
   "execution_count": 31,
   "metadata": {},
   "outputs": [
    {
     "name": "stdout",
     "output_type": "stream",
     "text": [
      "Defaulting to user installation because normal site-packages is not writeable\n",
      "Requirement already satisfied: PyPortfolioOpt in /Users/aaryanbhatia/Library/Python/3.11/lib/python/site-packages (1.5.5)\n",
      "Requirement already satisfied: cvxpy<2.0.0,>=1.1.19 in /Users/aaryanbhatia/Library/Python/3.11/lib/python/site-packages (from PyPortfolioOpt) (1.4.3)\n",
      "Requirement already satisfied: numpy<2.0.0,>=1.22.4 in /Users/aaryanbhatia/Library/Python/3.11/lib/python/site-packages (from PyPortfolioOpt) (1.26.4)\n",
      "Requirement already satisfied: pandas>=0.19 in /Users/aaryanbhatia/Library/Python/3.11/lib/python/site-packages (from PyPortfolioOpt) (2.2.2)\n",
      "Requirement already satisfied: scipy<2.0,>=1.3 in /Users/aaryanbhatia/Library/Python/3.11/lib/python/site-packages (from PyPortfolioOpt) (1.11.4)\n",
      "Requirement already satisfied: osqp>=0.6.2 in /Users/aaryanbhatia/Library/Python/3.11/lib/python/site-packages (from cvxpy<2.0.0,>=1.1.19->PyPortfolioOpt) (0.6.5)\n",
      "Requirement already satisfied: ecos>=2 in /Users/aaryanbhatia/Library/Python/3.11/lib/python/site-packages (from cvxpy<2.0.0,>=1.1.19->PyPortfolioOpt) (2.0.13)\n",
      "Requirement already satisfied: clarabel>=0.5.0 in /Users/aaryanbhatia/Library/Python/3.11/lib/python/site-packages (from cvxpy<2.0.0,>=1.1.19->PyPortfolioOpt) (0.7.1)\n",
      "Requirement already satisfied: scs>=3.0 in /Users/aaryanbhatia/Library/Python/3.11/lib/python/site-packages (from cvxpy<2.0.0,>=1.1.19->PyPortfolioOpt) (3.2.4.post1)\n",
      "Requirement already satisfied: pybind11 in /Users/aaryanbhatia/Library/Python/3.11/lib/python/site-packages (from cvxpy<2.0.0,>=1.1.19->PyPortfolioOpt) (2.12.0)\n",
      "Requirement already satisfied: python-dateutil>=2.8.2 in /Users/aaryanbhatia/Library/Python/3.11/lib/python/site-packages (from pandas>=0.19->PyPortfolioOpt) (2.9.0.post0)\n",
      "Requirement already satisfied: pytz>=2020.1 in /Users/aaryanbhatia/Library/Python/3.11/lib/python/site-packages (from pandas>=0.19->PyPortfolioOpt) (2024.1)\n",
      "Requirement already satisfied: tzdata>=2022.7 in /Users/aaryanbhatia/Library/Python/3.11/lib/python/site-packages (from pandas>=0.19->PyPortfolioOpt) (2024.1)\n",
      "Requirement already satisfied: qdldl in /Users/aaryanbhatia/Library/Python/3.11/lib/python/site-packages (from osqp>=0.6.2->cvxpy<2.0.0,>=1.1.19->PyPortfolioOpt) (0.1.7.post2)\n",
      "Requirement already satisfied: six>=1.5 in /Users/aaryanbhatia/Library/Python/3.11/lib/python/site-packages (from python-dateutil>=2.8.2->pandas>=0.19->PyPortfolioOpt) (1.16.0)\n",
      "\n",
      "\u001b[1m[\u001b[0m\u001b[34;49mnotice\u001b[0m\u001b[1;39;49m]\u001b[0m\u001b[39;49m A new release of pip available: \u001b[0m\u001b[31;49m22.3\u001b[0m\u001b[39;49m -> \u001b[0m\u001b[32;49m24.0\u001b[0m\n",
      "\u001b[1m[\u001b[0m\u001b[34;49mnotice\u001b[0m\u001b[1;39;49m]\u001b[0m\u001b[39;49m To update, run: \u001b[0m\u001b[32;49mpython3 -m pip install --upgrade pip\u001b[0m\n",
      "Note: you may need to restart the kernel to use updated packages.\n"
     ]
    }
   ],
   "source": [
    "pip install PyPortfolioOpt"
   ]
  },
  {
   "cell_type": "code",
   "execution_count": 51,
   "metadata": {},
   "outputs": [
    {
     "name": "stdout",
     "output_type": "stream",
     "text": [
      "Defaulting to user installation because normal site-packages is not writeable\n",
      "Requirement already satisfied: seaborn in /Users/aaryanbhatia/Library/Python/3.11/lib/python/site-packages (0.13.2)\n",
      "Requirement already satisfied: numpy!=1.24.0,>=1.20 in /Users/aaryanbhatia/Library/Python/3.11/lib/python/site-packages (from seaborn) (1.26.4)\n",
      "Requirement already satisfied: pandas>=1.2 in /Users/aaryanbhatia/Library/Python/3.11/lib/python/site-packages (from seaborn) (2.2.2)\n",
      "Requirement already satisfied: matplotlib!=3.6.1,>=3.4 in /Users/aaryanbhatia/Library/Python/3.11/lib/python/site-packages (from seaborn) (3.8.4)\n",
      "Requirement already satisfied: contourpy>=1.0.1 in /Users/aaryanbhatia/Library/Python/3.11/lib/python/site-packages (from matplotlib!=3.6.1,>=3.4->seaborn) (1.2.1)\n",
      "Requirement already satisfied: cycler>=0.10 in /Users/aaryanbhatia/Library/Python/3.11/lib/python/site-packages (from matplotlib!=3.6.1,>=3.4->seaborn) (0.12.1)\n",
      "Requirement already satisfied: fonttools>=4.22.0 in /Users/aaryanbhatia/Library/Python/3.11/lib/python/site-packages (from matplotlib!=3.6.1,>=3.4->seaborn) (4.51.0)\n",
      "Requirement already satisfied: kiwisolver>=1.3.1 in /Users/aaryanbhatia/Library/Python/3.11/lib/python/site-packages (from matplotlib!=3.6.1,>=3.4->seaborn) (1.4.5)\n",
      "Requirement already satisfied: packaging>=20.0 in /Users/aaryanbhatia/Library/Python/3.11/lib/python/site-packages (from matplotlib!=3.6.1,>=3.4->seaborn) (24.0)\n",
      "Requirement already satisfied: pillow>=8 in /Users/aaryanbhatia/Library/Python/3.11/lib/python/site-packages (from matplotlib!=3.6.1,>=3.4->seaborn) (10.3.0)\n",
      "Requirement already satisfied: pyparsing>=2.3.1 in /Users/aaryanbhatia/Library/Python/3.11/lib/python/site-packages (from matplotlib!=3.6.1,>=3.4->seaborn) (3.1.2)\n",
      "Requirement already satisfied: python-dateutil>=2.7 in /Users/aaryanbhatia/Library/Python/3.11/lib/python/site-packages (from matplotlib!=3.6.1,>=3.4->seaborn) (2.9.0.post0)\n",
      "Requirement already satisfied: pytz>=2020.1 in /Users/aaryanbhatia/Library/Python/3.11/lib/python/site-packages (from pandas>=1.2->seaborn) (2024.1)\n",
      "Requirement already satisfied: tzdata>=2022.7 in /Users/aaryanbhatia/Library/Python/3.11/lib/python/site-packages (from pandas>=1.2->seaborn) (2024.1)\n",
      "Requirement already satisfied: six>=1.5 in /Users/aaryanbhatia/Library/Python/3.11/lib/python/site-packages (from python-dateutil>=2.7->matplotlib!=3.6.1,>=3.4->seaborn) (1.16.0)\n",
      "\n",
      "\u001b[1m[\u001b[0m\u001b[34;49mnotice\u001b[0m\u001b[1;39;49m]\u001b[0m\u001b[39;49m A new release of pip available: \u001b[0m\u001b[31;49m22.3\u001b[0m\u001b[39;49m -> \u001b[0m\u001b[32;49m24.0\u001b[0m\n",
      "\u001b[1m[\u001b[0m\u001b[34;49mnotice\u001b[0m\u001b[1;39;49m]\u001b[0m\u001b[39;49m To update, run: \u001b[0m\u001b[32;49mpython3 -m pip install --upgrade pip\u001b[0m\n",
      "Note: you may need to restart the kernel to use updated packages.\n"
     ]
    }
   ],
   "source": [
    "pip install seaborn"
   ]
  },
  {
   "cell_type": "code",
   "execution_count": 15,
   "metadata": {},
   "outputs": [
    {
     "name": "stdout",
     "output_type": "stream",
     "text": [
      "['Solarize_Light2', '_classic_test_patch', '_mpl-gallery', '_mpl-gallery-nogrid', 'bmh', 'classic', 'dark_background', 'fast', 'fivethirtyeight', 'ggplot', 'grayscale', 'seaborn-v0_8', 'seaborn-v0_8-bright', 'seaborn-v0_8-colorblind', 'seaborn-v0_8-dark', 'seaborn-v0_8-dark-palette', 'seaborn-v0_8-darkgrid', 'seaborn-v0_8-deep', 'seaborn-v0_8-muted', 'seaborn-v0_8-notebook', 'seaborn-v0_8-paper', 'seaborn-v0_8-pastel', 'seaborn-v0_8-poster', 'seaborn-v0_8-talk', 'seaborn-v0_8-ticks', 'seaborn-v0_8-white', 'seaborn-v0_8-whitegrid', 'tableau-colorblind10']\n"
     ]
    }
   ],
   "source": [
    "import matplotlib.pyplot as plt\n",
    "print(plt.style.available)"
   ]
  },
  {
   "cell_type": "code",
   "execution_count": 55,
   "metadata": {},
   "outputs": [
    {
     "name": "stdout",
     "output_type": "stream",
     "text": [
      "Defaulting to user installation because normal site-packages is not writeable\n",
      "Requirement already satisfied: matplotlib in /Users/aaryanbhatia/Library/Python/3.11/lib/python/site-packages (3.8.4)\n",
      "Requirement already satisfied: contourpy>=1.0.1 in /Users/aaryanbhatia/Library/Python/3.11/lib/python/site-packages (from matplotlib) (1.2.1)\n",
      "Requirement already satisfied: cycler>=0.10 in /Users/aaryanbhatia/Library/Python/3.11/lib/python/site-packages (from matplotlib) (0.12.1)\n",
      "Requirement already satisfied: fonttools>=4.22.0 in /Users/aaryanbhatia/Library/Python/3.11/lib/python/site-packages (from matplotlib) (4.51.0)\n",
      "Requirement already satisfied: kiwisolver>=1.3.1 in /Users/aaryanbhatia/Library/Python/3.11/lib/python/site-packages (from matplotlib) (1.4.5)\n",
      "Requirement already satisfied: numpy>=1.21 in /Users/aaryanbhatia/Library/Python/3.11/lib/python/site-packages (from matplotlib) (1.26.4)\n",
      "Requirement already satisfied: packaging>=20.0 in /Users/aaryanbhatia/Library/Python/3.11/lib/python/site-packages (from matplotlib) (24.0)\n",
      "Requirement already satisfied: pillow>=8 in /Users/aaryanbhatia/Library/Python/3.11/lib/python/site-packages (from matplotlib) (10.3.0)\n",
      "Requirement already satisfied: pyparsing>=2.3.1 in /Users/aaryanbhatia/Library/Python/3.11/lib/python/site-packages (from matplotlib) (3.1.2)\n",
      "Requirement already satisfied: python-dateutil>=2.7 in /Users/aaryanbhatia/Library/Python/3.11/lib/python/site-packages (from matplotlib) (2.9.0.post0)\n",
      "Requirement already satisfied: six>=1.5 in /Users/aaryanbhatia/Library/Python/3.11/lib/python/site-packages (from python-dateutil>=2.7->matplotlib) (1.16.0)\n",
      "\n",
      "\u001b[1m[\u001b[0m\u001b[34;49mnotice\u001b[0m\u001b[1;39;49m]\u001b[0m\u001b[39;49m A new release of pip available: \u001b[0m\u001b[31;49m22.3\u001b[0m\u001b[39;49m -> \u001b[0m\u001b[32;49m24.0\u001b[0m\n",
      "\u001b[1m[\u001b[0m\u001b[34;49mnotice\u001b[0m\u001b[1;39;49m]\u001b[0m\u001b[39;49m To update, run: \u001b[0m\u001b[32;49mpython3 -m pip install --upgrade pip\u001b[0m\n",
      "Note: you may need to restart the kernel to use updated packages.\n"
     ]
    }
   ],
   "source": [
    "pip install --upgrade matplotlib"
   ]
  },
  {
   "cell_type": "code",
   "execution_count": 56,
   "metadata": {},
   "outputs": [
    {
     "name": "stdout",
     "output_type": "stream",
     "text": [
      "Defaulting to user installation because normal site-packages is not writeable\n",
      "Requirement already satisfied: pyportfolioopt in /Users/aaryanbhatia/Library/Python/3.11/lib/python/site-packages (1.5.5)\n",
      "Requirement already satisfied: cvxpy<2.0.0,>=1.1.19 in /Users/aaryanbhatia/Library/Python/3.11/lib/python/site-packages (from pyportfolioopt) (1.4.3)\n",
      "Requirement already satisfied: numpy<2.0.0,>=1.22.4 in /Users/aaryanbhatia/Library/Python/3.11/lib/python/site-packages (from pyportfolioopt) (1.26.4)\n",
      "Requirement already satisfied: pandas>=0.19 in /Users/aaryanbhatia/Library/Python/3.11/lib/python/site-packages (from pyportfolioopt) (2.2.2)\n",
      "Requirement already satisfied: scipy<2.0,>=1.3 in /Users/aaryanbhatia/Library/Python/3.11/lib/python/site-packages (from pyportfolioopt) (1.11.4)\n",
      "Requirement already satisfied: osqp>=0.6.2 in /Users/aaryanbhatia/Library/Python/3.11/lib/python/site-packages (from cvxpy<2.0.0,>=1.1.19->pyportfolioopt) (0.6.5)\n",
      "Requirement already satisfied: ecos>=2 in /Users/aaryanbhatia/Library/Python/3.11/lib/python/site-packages (from cvxpy<2.0.0,>=1.1.19->pyportfolioopt) (2.0.13)\n",
      "Requirement already satisfied: clarabel>=0.5.0 in /Users/aaryanbhatia/Library/Python/3.11/lib/python/site-packages (from cvxpy<2.0.0,>=1.1.19->pyportfolioopt) (0.7.1)\n",
      "Requirement already satisfied: scs>=3.0 in /Users/aaryanbhatia/Library/Python/3.11/lib/python/site-packages (from cvxpy<2.0.0,>=1.1.19->pyportfolioopt) (3.2.4.post1)\n",
      "Requirement already satisfied: pybind11 in /Users/aaryanbhatia/Library/Python/3.11/lib/python/site-packages (from cvxpy<2.0.0,>=1.1.19->pyportfolioopt) (2.12.0)\n",
      "Requirement already satisfied: python-dateutil>=2.8.2 in /Users/aaryanbhatia/Library/Python/3.11/lib/python/site-packages (from pandas>=0.19->pyportfolioopt) (2.9.0.post0)\n",
      "Requirement already satisfied: pytz>=2020.1 in /Users/aaryanbhatia/Library/Python/3.11/lib/python/site-packages (from pandas>=0.19->pyportfolioopt) (2024.1)\n",
      "Requirement already satisfied: tzdata>=2022.7 in /Users/aaryanbhatia/Library/Python/3.11/lib/python/site-packages (from pandas>=0.19->pyportfolioopt) (2024.1)\n",
      "Requirement already satisfied: qdldl in /Users/aaryanbhatia/Library/Python/3.11/lib/python/site-packages (from osqp>=0.6.2->cvxpy<2.0.0,>=1.1.19->pyportfolioopt) (0.1.7.post2)\n",
      "Requirement already satisfied: six>=1.5 in /Users/aaryanbhatia/Library/Python/3.11/lib/python/site-packages (from python-dateutil>=2.8.2->pandas>=0.19->pyportfolioopt) (1.16.0)\n",
      "\n",
      "\u001b[1m[\u001b[0m\u001b[34;49mnotice\u001b[0m\u001b[1;39;49m]\u001b[0m\u001b[39;49m A new release of pip available: \u001b[0m\u001b[31;49m22.3\u001b[0m\u001b[39;49m -> \u001b[0m\u001b[32;49m24.0\u001b[0m\n",
      "\u001b[1m[\u001b[0m\u001b[34;49mnotice\u001b[0m\u001b[1;39;49m]\u001b[0m\u001b[39;49m To update, run: \u001b[0m\u001b[32;49mpython3 -m pip install --upgrade pip\u001b[0m\n",
      "Note: you may need to restart the kernel to use updated packages.\n"
     ]
    }
   ],
   "source": [
    "pip install --upgrade pyportfolioopt"
   ]
  },
  {
   "cell_type": "code",
   "execution_count": 289,
   "metadata": {},
   "outputs": [],
   "source": [
    "import matplotlib.pyplot as plt\n",
    "plt.style.use('classic')"
   ]
  },
  {
   "cell_type": "code",
   "execution_count": 290,
   "metadata": {},
   "outputs": [],
   "source": [
    "import matplotlib.pyplot as plt\n",
    "plt.style.use('classic')  # Change 'seaborn-deep' to 'seaborn' or another available style\n",
    "from pypfopt.efficient_frontier import EfficientFrontier\n",
    "from pypfopt import risk_models\n",
    "from pypfopt import expected_returns"
   ]
  },
  {
   "cell_type": "code",
   "execution_count": 318,
   "metadata": {},
   "outputs": [
    {
     "name": "stdout",
     "output_type": "stream",
     "text": [
      "OrderedDict([('INDL', 0.1), ('SMIN', 0.8), ('TMF', 0.1)])\n",
      "Expected annual return: 10.4%\n",
      "Annual volatility: 25.3%\n",
      "Sharpe Ratio: 0.33\n"
     ]
    },
    {
     "data": {
      "text/plain": [
       "(0.10403694778579588, 0.2525881324864598, 0.33270346852222266)"
      ]
     },
     "execution_count": 318,
     "metadata": {},
     "output_type": "execute_result"
    }
   ],
   "source": [
    "\n",
    "# Portfolio Optimization\n",
    "\n",
    "# Calculate the expected returns and the annualized sample covariance matrix of asset returns\n",
    "mu = expected_returns.mean_historical_return(df)\n",
    "S = risk_models.sample_cov(df)\n",
    "\n",
    "# Optimize for maximum sharpe ratio\n",
    "ef = EfficientFrontier(mu,S,weight_bounds=(0.1,None))\n",
    "ef.add_constraint(lambda w: w[0]+w[1]+w[2] == 1)\n",
    "weights = ef.max_sharpe()\n",
    "cleaned_weights = ef.clean_weights() \n",
    "print(cleaned_weights)\n",
    "ef.portfolio_performance(verbose=True)"
   ]
  },
  {
   "cell_type": "code",
   "execution_count": 319,
   "metadata": {},
   "outputs": [
    {
     "name": "stdout",
     "output_type": "stream",
     "text": [
      "Discrete allocation:  {'INDL': 1, 'SMIN': 10, 'TMF': 2}\n",
      "Funds remaining: $33.73\n"
     ]
    }
   ],
   "source": [
    "# Get the discrete allocation of each share per stock\n",
    "from pypfopt.discrete_allocation import DiscreteAllocation, get_latest_prices\n",
    "\n",
    "latest_prices = get_latest_prices(df)\n",
    "weights = cleaned_weights\n",
    "da = DiscreteAllocation(weights,latest_prices,total_portfolio_value = 1000)\n",
    "\n",
    "allocation,leftover = da.lp_portfolio()\n",
    "print('Discrete allocation: ',allocation)\n",
    "print('Funds remaining: ${:.2f}'.format(leftover))"
   ]
  },
  {
   "cell_type": "code",
   "execution_count": null,
   "metadata": {},
   "outputs": [],
   "source": []
  },
  {
   "cell_type": "code",
   "execution_count": 21,
   "metadata": {},
   "outputs": [
    {
     "ename": "NameError",
     "evalue": "name 'ax' is not defined",
     "output_type": "error",
     "traceback": [
      "\u001b[0;31m---------------------------------------------------------------------------\u001b[0m",
      "\u001b[0;31mNameError\u001b[0m                                 Traceback (most recent call last)",
      "Cell \u001b[0;32mIn[21], line 13\u001b[0m\n\u001b[1;32m     11\u001b[0m ef\u001b[38;5;241m.\u001b[39mmax_sharpe()\n\u001b[1;32m     12\u001b[0m ret_tangent, std_tangent, _ \u001b[38;5;241m=\u001b[39m ef\u001b[38;5;241m.\u001b[39mportfolio_performance()\n\u001b[0;32m---> 13\u001b[0m \u001b[43max\u001b[49m\u001b[38;5;241m.\u001b[39mscatter(std_tangent, ret_tangent, marker\u001b[38;5;241m=\u001b[39m\u001b[38;5;124m\"\u001b[39m\u001b[38;5;124m*\u001b[39m\u001b[38;5;124m\"\u001b[39m, s\u001b[38;5;241m=\u001b[39m\u001b[38;5;241m100\u001b[39m, c\u001b[38;5;241m=\u001b[39m\u001b[38;5;124m\"\u001b[39m\u001b[38;5;124mr\u001b[39m\u001b[38;5;124m\"\u001b[39m, label\u001b[38;5;241m=\u001b[39m\u001b[38;5;124m\"\u001b[39m\u001b[38;5;124mMax Sharpe\u001b[39m\u001b[38;5;124m\"\u001b[39m)\n\u001b[1;32m     15\u001b[0m \u001b[38;5;66;03m# Generate random portfolios\u001b[39;00m\n\u001b[1;32m     16\u001b[0m n_samples \u001b[38;5;241m=\u001b[39m \u001b[38;5;241m10000\u001b[39m\n",
      "\u001b[0;31mNameError\u001b[0m: name 'ax' is not defined"
     ]
    }
   ],
   "source": [
    "# Calculate the expected returns and the annualized sample covariance matrix of asset returns\n",
    "mu = expected_returns.mean_historical_return(df)\n",
    "S = risk_models.sample_cov(df)\n",
    "\n",
    "# Optimize for maximum sharpe ratio\n",
    "ef = EfficientFrontier(mu,S,weight_bounds=(None,None))\n",
    "ef.add_constraint(lambda w: w[0]+w[1]+w[2]+w[3] == 1)\n",
    "\n",
    "\n",
    "# Find the tangency portfolio\n",
    "ef.max_sharpe()\n",
    "ret_tangent, std_tangent, _ = ef.portfolio_performance()\n",
    "ax.scatter(std_tangent, ret_tangent, marker=\"*\", s=100, c=\"r\", label=\"Max Sharpe\")\n",
    "\n",
    "# Generate random portfolios\n",
    "n_samples = 10000\n",
    "w = np.random.dirichlet(np.ones(len(mu)), n_samples)\n",
    "rets = w.dot(mu)\n",
    "stds = np.sqrt(np.diag(w @ S @ w.T))\n",
    "sharpes = rets / stds\n",
    "ax.scatter(stds, rets, marker=\".\", c=sharpes, cmap=\"viridis_r\")\n",
    "\n",
    "# Output\n",
    "ax.set_title(\"Efficient Frontier with random portfolios\")\n",
    "ax.legend()\n",
    "plt.tight_layout()\n",
    "plt.savefig(\"ef_scatter.png\", dpi=200)\n",
    "plt.show()\n",
    "\n",
    "fig, ax = plt.subplots(figsize=(10, 6))\n",
    "scatter = ax.scatter(stds, rets, c=sharpes, cmap='viridis_r', marker='.', label='Random Portfolios')\n",
    "ax.scatter(std_tangent, ret_tangent, marker=\"*\", color='r', s=100, label='Max Sharpe Ratio')\n",
    "ax.set_title(\"Efficient Frontier with Random Portfolios\")\n",
    "ax.set_xlabel(\"Standard Deviation (Risk)\")\n",
    "ax.set_ylabel(\"Expected Return\")\n",
    "ax.legend()\n",
    "\n",
    "# Adding a colorbar to show the Sharpe ratio\n",
    "cbar = plt.colorbar(scatter, ax=ax)\n",
    "cbar.set_label('Sharpe Ratio')\n",
    "\n",
    "plt.tight_layout()\n",
    "plt.savefig(\"ef_scatter.png\", dpi=200)\n",
    "plt.show()"
   ]
  },
  {
   "cell_type": "code",
   "execution_count": null,
   "metadata": {},
   "outputs": [],
   "source": []
  }
 ],
 "metadata": {
  "kernelspec": {
   "display_name": "Python 3",
   "language": "python",
   "name": "python3"
  },
  "language_info": {
   "codemirror_mode": {
    "name": "ipython",
    "version": 3
   },
   "file_extension": ".py",
   "mimetype": "text/x-python",
   "name": "python",
   "nbconvert_exporter": "python",
   "pygments_lexer": "ipython3",
   "version": "3.11.0"
  }
 },
 "nbformat": 4,
 "nbformat_minor": 2
}
